{
 "cells": [
  {
   "cell_type": "code",
   "execution_count": 1,
   "metadata": {
    "collapsed": true
   },
   "outputs": [],
   "source": [
    "import numpy as np"
   ]
  },
  {
   "cell_type": "code",
   "execution_count": 3,
   "metadata": {
    "collapsed": false
   },
   "outputs": [
    {
     "name": "stdout",
     "output_type": "stream",
     "text": [
      "[[1 1 1]\n",
      " [2 2 2]]\n",
      "(3,)\n",
      "(2, 3)\n"
     ]
    }
   ],
   "source": [
    "A = np.array([1, 1, 1])\n",
    "B = np.array([2, 2, 2])\n",
    "\n",
    "# veritcal stack\n",
    "print(np.vstack((A, B))) \n",
    "C = np.vstack((A, B))\n",
    "print(A.shape)\n",
    "print(C.shape)"
   ]
  },
  {
   "cell_type": "code",
   "execution_count": 5,
   "metadata": {
    "collapsed": false
   },
   "outputs": [
    {
     "name": "stdout",
     "output_type": "stream",
     "text": [
      "[1 1 1 2 2 2]\n",
      "(6,)\n"
     ]
    }
   ],
   "source": [
    "D = np.hstack((A, B))\n",
    "print(D)\n",
    "print(D.shape)"
   ]
  },
  {
   "cell_type": "code",
   "execution_count": 9,
   "metadata": {
    "collapsed": false
   },
   "outputs": [
    {
     "name": "stdout",
     "output_type": "stream",
     "text": [
      "[[1 1 1]]\n",
      "(1, 3)\n",
      "[[1]\n",
      " [1]\n",
      " [1]]\n",
      "(3, 1)\n"
     ]
    }
   ],
   "source": [
    "print(A[np.newaxis, :])\n",
    "print(A[np.newaxis, :].shape)\n",
    "print(A[:, np.newaxis])\n",
    "print(A[:, np.newaxis].shape)"
   ]
  },
  {
   "cell_type": "code",
   "execution_count": 19,
   "metadata": {
    "collapsed": false
   },
   "outputs": [],
   "source": [
    "A = np.arange(0, 3).reshape((1, 3))\n",
    "B = np.arange(1, 4).reshape((1, 3))"
   ]
  },
  {
   "cell_type": "code",
   "execution_count": 20,
   "metadata": {
    "collapsed": false
   },
   "outputs": [
    {
     "name": "stdout",
     "output_type": "stream",
     "text": [
      "[[0 1 2]\n",
      " [1 2 3]\n",
      " [0 1 2]\n",
      " [0 1 2]]\n",
      "[[0 1 2 1 2 3 0 1 2 0 1 2]]\n"
     ]
    }
   ],
   "source": [
    "E = np.concatenate((A, B, A, A))\n",
    "print(E)\n",
    "F = np.concatenate((A, B, A, A), axis = 1)\n",
    "print(F)"
   ]
  },
  {
   "cell_type": "code",
   "execution_count": null,
   "metadata": {
    "collapsed": true
   },
   "outputs": [],
   "source": []
  }
 ],
 "metadata": {
  "kernelspec": {
   "display_name": "Python [conda root]",
   "language": "python",
   "name": "conda-root-py"
  },
  "language_info": {
   "codemirror_mode": {
    "name": "ipython",
    "version": 3
   },
   "file_extension": ".py",
   "mimetype": "text/x-python",
   "name": "python",
   "nbconvert_exporter": "python",
   "pygments_lexer": "ipython3",
   "version": "3.5.2"
  }
 },
 "nbformat": 4,
 "nbformat_minor": 1
}
