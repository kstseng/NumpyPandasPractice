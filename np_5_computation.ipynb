{
 "cells": [
  {
   "cell_type": "code",
   "execution_count": 1,
   "metadata": {
    "collapsed": true
   },
   "outputs": [],
   "source": [
    "import numpy as np"
   ]
  },
  {
   "cell_type": "code",
   "execution_count": 3,
   "metadata": {
    "collapsed": false
   },
   "outputs": [
    {
     "name": "stdout",
     "output_type": "stream",
     "text": [
      "[10 23 31 41] [0 1 2 3]\n"
     ]
    }
   ],
   "source": [
    "a = np.array([10, 23, 31, 41])\n",
    "b = np.arange(4)\n",
    "print(a, b)\n"
   ]
  },
  {
   "cell_type": "code",
   "execution_count": 4,
   "metadata": {
    "collapsed": false
   },
   "outputs": [
    {
     "name": "stdout",
     "output_type": "stream",
     "text": [
      "[10 22 29 38]\n"
     ]
    }
   ],
   "source": [
    "c = a - b\n",
    "print(c)"
   ]
  },
  {
   "cell_type": "code",
   "execution_count": 6,
   "metadata": {
    "collapsed": false
   },
   "outputs": [
    {
     "name": "stdout",
     "output_type": "stream",
     "text": [
      "[   100000   6436343  28629151 115856201]\n"
     ]
    }
   ],
   "source": [
    "print(a**5)"
   ]
  },
  {
   "cell_type": "code",
   "execution_count": 8,
   "metadata": {
    "collapsed": false
   },
   "outputs": [
    {
     "name": "stdout",
     "output_type": "stream",
     "text": [
      "[-0.         -0.8462204  -0.80807529 -0.47586801]\n"
     ]
    }
   ],
   "source": [
    "print(b*np.sin(a))"
   ]
  },
  {
   "cell_type": "code",
   "execution_count": 12,
   "metadata": {
    "collapsed": false
   },
   "outputs": [
    {
     "name": "stdout",
     "output_type": "stream",
     "text": [
      "[False False False  True]\n"
     ]
    }
   ],
   "source": [
    "print(b == 3)"
   ]
  },
  {
   "cell_type": "code",
   "execution_count": 25,
   "metadata": {
    "collapsed": false
   },
   "outputs": [
    {
     "name": "stdout",
     "output_type": "stream",
     "text": [
      "[[166 229]\n",
      " [ 82 121]]\n",
      "[[166 229]\n",
      " [ 82 121]]\n",
      "[[166 229]\n",
      " [ 82 121]]\n"
     ]
    }
   ],
   "source": [
    "# matrix\n",
    "a = np.array([[11, 21, 31], [12, 13, 14]])\n",
    "b = np.arange(6).reshape([3, 2])\n",
    "c = np.matmul(a, b)\n",
    "d = np.dot(a, b)\n",
    "e = a.dot(b)\n",
    "# print(a)\n",
    "# print(b)\n",
    "print(c)\n",
    "print(d)\n",
    "print(e)"
   ]
  },
  {
   "cell_type": "code",
   "execution_count": 32,
   "metadata": {
    "collapsed": false
   },
   "outputs": [
    {
     "name": "stdout",
     "output_type": "stream",
     "text": [
      "[[ 0.62513474  0.55160229  0.51376629]\n",
      " [ 0.35723034  0.67521952  0.69987248]]\n",
      "3.42282565466\n",
      "[ 1.69050332  1.73232234]\n",
      "0.357230336185\n",
      "0.699872483512\n"
     ]
    }
   ],
   "source": [
    "a = np.random.random((2, 3))\n",
    "print(a)\n",
    "\n",
    "print(np.sum(a))\n",
    "print(np.sum(a, axis=1))\n",
    "print(np.min(a))\n",
    "print(np.max(a))"
   ]
  },
  {
   "cell_type": "code",
   "execution_count": 41,
   "metadata": {
    "collapsed": false
   },
   "outputs": [
    {
     "name": "stdout",
     "output_type": "stream",
     "text": [
      "[[ 2  3  4  5]\n",
      " [ 6  7  8  9]\n",
      " [10 11 12 13]]\n",
      "7.5\n",
      "7.5\n",
      "[ 2  5  9 14 20 27 35 44 54 65 77 90]\n",
      "[[ 2  6 10]\n",
      " [ 3  7 11]\n",
      " [ 4  8 12]\n",
      " [ 5  9 13]]\n",
      "[[ 2  6 10]\n",
      " [ 3  7 11]\n",
      " [ 4  8 12]\n",
      " [ 5  9 13]]\n",
      "[[2 3 4 5]\n",
      " [6 6 6 6]\n",
      " [6 6 6 6]]\n"
     ]
    }
   ],
   "source": [
    "# computation 2\n",
    "A = np.arange(2, 14).reshape([3, 4])\n",
    "print(A)\n",
    "print(A.mean())\n",
    "print(np.average(A))\n",
    "print(np.cumsum(A))\n",
    "print(A.T)\n",
    "print(np.transpose(A))\n",
    "print(np.clip(A, 2, 6))"
   ]
  },
  {
   "cell_type": "code",
   "execution_count": null,
   "metadata": {
    "collapsed": true
   },
   "outputs": [],
   "source": []
  }
 ],
 "metadata": {
  "anaconda-cloud": {},
  "kernelspec": {
   "display_name": "Python [conda root]",
   "language": "python",
   "name": "conda-root-py"
  },
  "language_info": {
   "codemirror_mode": {
    "name": "ipython",
    "version": 3
   },
   "file_extension": ".py",
   "mimetype": "text/x-python",
   "name": "python",
   "nbconvert_exporter": "python",
   "pygments_lexer": "ipython3",
   "version": "3.5.2"
  }
 },
 "nbformat": 4,
 "nbformat_minor": 1
}
