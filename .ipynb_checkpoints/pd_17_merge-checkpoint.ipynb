{
 "cells": [
  {
   "cell_type": "code",
   "execution_count": 2,
   "metadata": {
    "collapsed": true
   },
   "outputs": [],
   "source": [
    "import numpy as np\n",
    "import pandas as pd"
   ]
  },
  {
   "cell_type": "code",
   "execution_count": 8,
   "metadata": {
    "collapsed": false
   },
   "outputs": [
    {
     "data": {
      "text/html": [
       "<div>\n",
       "<table border=\"1\" class=\"dataframe\">\n",
       "  <thead>\n",
       "    <tr style=\"text-align: right;\">\n",
       "      <th></th>\n",
       "      <th>A</th>\n",
       "      <th>B</th>\n",
       "      <th>key</th>\n",
       "      <th>C</th>\n",
       "      <th>D</th>\n",
       "    </tr>\n",
       "  </thead>\n",
       "  <tbody>\n",
       "    <tr>\n",
       "      <th>0</th>\n",
       "      <td>a0</td>\n",
       "      <td>b0</td>\n",
       "      <td>k0</td>\n",
       "      <td>c0</td>\n",
       "      <td>d0</td>\n",
       "    </tr>\n",
       "    <tr>\n",
       "      <th>1</th>\n",
       "      <td>a1</td>\n",
       "      <td>b1</td>\n",
       "      <td>k1</td>\n",
       "      <td>c1</td>\n",
       "      <td>d1</td>\n",
       "    </tr>\n",
       "    <tr>\n",
       "      <th>2</th>\n",
       "      <td>a2</td>\n",
       "      <td>b2</td>\n",
       "      <td>k2</td>\n",
       "      <td>c2</td>\n",
       "      <td>d2</td>\n",
       "    </tr>\n",
       "    <tr>\n",
       "      <th>3</th>\n",
       "      <td>a3</td>\n",
       "      <td>b3</td>\n",
       "      <td>k3</td>\n",
       "      <td>c3</td>\n",
       "      <td>d3</td>\n",
       "    </tr>\n",
       "  </tbody>\n",
       "</table>\n",
       "</div>"
      ],
      "text/plain": [
       "    A   B key   C   D\n",
       "0  a0  b0  k0  c0  d0\n",
       "1  a1  b1  k1  c1  d1\n",
       "2  a2  b2  k2  c2  d2\n",
       "3  a3  b3  k3  c3  d3"
      ]
     },
     "execution_count": 8,
     "metadata": {},
     "output_type": "execute_result"
    }
   ],
   "source": [
    "# merge two df by key\n",
    "left = pd.DataFrame({'key':['k0', 'k1', 'k2', 'k3'], \n",
    "                     'A':['a0', 'a1', 'a2', 'a3'], \n",
    "                     'B':['b0', 'b1', 'b2', 'b3']})\n",
    "right = pd.DataFrame({'key':['k0', 'k1', 'k2', 'k3'], \n",
    "                     'C':['c0', 'c1', 'c2', 'c3'], \n",
    "                     'D':['d0', 'd1', 'd2', 'd3']})\n",
    "\n",
    "res = pd.merge(left, right, on='key')\n",
    "res"
   ]
  },
  {
   "cell_type": "code",
   "execution_count": 17,
   "metadata": {
    "collapsed": false
   },
   "outputs": [
    {
     "name": "stdout",
     "output_type": "stream",
     "text": [
      "    A   B key1 key2\n",
      "0  a0  b0   k0   k0\n",
      "1  a1  b1   k0   k1\n",
      "2  a2  b2   k1   k0\n",
      "3  a3  b3   k2   k1\n",
      "    C   D key1 key2\n",
      "0  c0  d0   k0   k0\n",
      "1  c1  d1   k1   k0\n",
      "2  c2  d2   k1   k0\n",
      "3  c3  d3   k2   k0\n"
     ]
    },
    {
     "data": {
      "text/html": [
       "<div>\n",
       "<table border=\"1\" class=\"dataframe\">\n",
       "  <thead>\n",
       "    <tr style=\"text-align: right;\">\n",
       "      <th></th>\n",
       "      <th>A</th>\n",
       "      <th>B</th>\n",
       "      <th>key1</th>\n",
       "      <th>key2</th>\n",
       "      <th>C</th>\n",
       "      <th>D</th>\n",
       "    </tr>\n",
       "  </thead>\n",
       "  <tbody>\n",
       "    <tr>\n",
       "      <th>0</th>\n",
       "      <td>a0</td>\n",
       "      <td>b0</td>\n",
       "      <td>k0</td>\n",
       "      <td>k0</td>\n",
       "      <td>c0</td>\n",
       "      <td>d0</td>\n",
       "    </tr>\n",
       "    <tr>\n",
       "      <th>1</th>\n",
       "      <td>a1</td>\n",
       "      <td>b1</td>\n",
       "      <td>k0</td>\n",
       "      <td>k1</td>\n",
       "      <td>NaN</td>\n",
       "      <td>NaN</td>\n",
       "    </tr>\n",
       "    <tr>\n",
       "      <th>2</th>\n",
       "      <td>a2</td>\n",
       "      <td>b2</td>\n",
       "      <td>k1</td>\n",
       "      <td>k0</td>\n",
       "      <td>c1</td>\n",
       "      <td>d1</td>\n",
       "    </tr>\n",
       "    <tr>\n",
       "      <th>3</th>\n",
       "      <td>a2</td>\n",
       "      <td>b2</td>\n",
       "      <td>k1</td>\n",
       "      <td>k0</td>\n",
       "      <td>c2</td>\n",
       "      <td>d2</td>\n",
       "    </tr>\n",
       "    <tr>\n",
       "      <th>4</th>\n",
       "      <td>a3</td>\n",
       "      <td>b3</td>\n",
       "      <td>k2</td>\n",
       "      <td>k1</td>\n",
       "      <td>NaN</td>\n",
       "      <td>NaN</td>\n",
       "    </tr>\n",
       "    <tr>\n",
       "      <th>5</th>\n",
       "      <td>NaN</td>\n",
       "      <td>NaN</td>\n",
       "      <td>k2</td>\n",
       "      <td>k0</td>\n",
       "      <td>c3</td>\n",
       "      <td>d3</td>\n",
       "    </tr>\n",
       "  </tbody>\n",
       "</table>\n",
       "</div>"
      ],
      "text/plain": [
       "     A    B key1 key2    C    D\n",
       "0   a0   b0   k0   k0   c0   d0\n",
       "1   a1   b1   k0   k1  NaN  NaN\n",
       "2   a2   b2   k1   k0   c1   d1\n",
       "3   a2   b2   k1   k0   c2   d2\n",
       "4   a3   b3   k2   k1  NaN  NaN\n",
       "5  NaN  NaN   k2   k0   c3   d3"
      ]
     },
     "execution_count": 17,
     "metadata": {},
     "output_type": "execute_result"
    }
   ],
   "source": [
    "# consider two keys\n",
    "left = pd.DataFrame({'key1':['k0', 'k0', 'k1', 'k2'], \n",
    "                     'key2':['k0', 'k1', 'k0', 'k1'],\n",
    "                     'A':['a0', 'a1', 'a2', 'a3'], \n",
    "                     'B':['b0', 'b1', 'b2', 'b3']})\n",
    "right = pd.DataFrame({'key1':['k0', 'k1', 'k1', 'k2'],\n",
    "                      'key2':['k0', 'k0', 'k0', 'k0'],\n",
    "                     'C':['c0', 'c1', 'c2', 'c3'], \n",
    "                     'D':['d0', 'd1', 'd2', 'd3']})\n",
    "\n",
    "print(left)\n",
    "print(right)\n",
    "# how = ['left', 'right', 'outer', 'inner']\n",
    "res = pd.merge(left, right, on=['key1', 'key2'], how='outer')\n",
    "res"
   ]
  },
  {
   "cell_type": "code",
   "execution_count": 27,
   "metadata": {
    "collapsed": false
   },
   "outputs": [
    {
     "name": "stdout",
     "output_type": "stream",
     "text": [
      "   col1 col_right_x  col_right_y      _merge\n",
      "0     0           a          NaN   left_only\n",
      "1     1           b          2.0        both\n",
      "2     2         NaN          2.0  right_only\n",
      "3     2         NaN          2.0  right_only\n",
      "   col1 col_right_x  col_right_y indicator_column\n",
      "0     0           a          NaN        left_only\n",
      "1     1           b          2.0             both\n",
      "2     2         NaN          2.0       right_only\n",
      "3     2         NaN          2.0       right_only\n"
     ]
    }
   ],
   "source": [
    "# indicator\n",
    "df1 = pd.DataFrame({'col1':[0, 1], 'col_right':['a', 'b']})\n",
    "df2 = pd.DataFrame({'col1':[1, 2, 2], 'col_right':[2, 2, 2]})\n",
    "\n",
    "res = pd.merge(df1, df2, on='col1', how='outer', indicator=True)\n",
    "print(res)\n",
    "res = pd.merge(df1, df2, on='col1', how='outer', indicator='indicator_column')\n",
    "print(res)"
   ]
  },
  {
   "cell_type": "code",
   "execution_count": 35,
   "metadata": {
    "collapsed": false
   },
   "outputs": [
    {
     "name": "stdout",
     "output_type": "stream",
     "text": [
      "     A   B\n",
      "K0  A0  B0\n",
      "K1  A1  B1\n",
      "K2  A2  B2\n"
     ]
    },
    {
     "data": {
      "text/html": [
       "<div>\n",
       "<table border=\"1\" class=\"dataframe\">\n",
       "  <thead>\n",
       "    <tr style=\"text-align: right;\">\n",
       "      <th></th>\n",
       "      <th>A</th>\n",
       "      <th>B</th>\n",
       "      <th>C</th>\n",
       "      <th>D</th>\n",
       "    </tr>\n",
       "  </thead>\n",
       "  <tbody>\n",
       "    <tr>\n",
       "      <th>K0</th>\n",
       "      <td>A0</td>\n",
       "      <td>B0</td>\n",
       "      <td>C0</td>\n",
       "      <td>D0</td>\n",
       "    </tr>\n",
       "    <tr>\n",
       "      <th>K1</th>\n",
       "      <td>A1</td>\n",
       "      <td>B1</td>\n",
       "      <td>NaN</td>\n",
       "      <td>NaN</td>\n",
       "    </tr>\n",
       "    <tr>\n",
       "      <th>K2</th>\n",
       "      <td>A2</td>\n",
       "      <td>B2</td>\n",
       "      <td>C1</td>\n",
       "      <td>D1</td>\n",
       "    </tr>\n",
       "    <tr>\n",
       "      <th>K3</th>\n",
       "      <td>NaN</td>\n",
       "      <td>NaN</td>\n",
       "      <td>C2</td>\n",
       "      <td>D2</td>\n",
       "    </tr>\n",
       "  </tbody>\n",
       "</table>\n",
       "</div>"
      ],
      "text/plain": [
       "      A    B    C    D\n",
       "K0   A0   B0   C0   D0\n",
       "K1   A1   B1  NaN  NaN\n",
       "K2   A2   B2   C1   D1\n",
       "K3  NaN  NaN   C2   D2"
      ]
     },
     "execution_count": 35,
     "metadata": {},
     "output_type": "execute_result"
    }
   ],
   "source": [
    "# merged by index\n",
    "left = pd.DataFrame({'A':['A0', 'A1', 'A2'], \n",
    "                     'B':['B0', 'B1', 'B2']}, \n",
    "                     index=['K0', 'K1', 'K2'])\n",
    "right = pd.DataFrame({'C':['C0', 'C1', 'C2'], \n",
    "                      'D':['D0', 'D1', 'D2']}, \n",
    "                      index=['K0', 'K2', 'K3'])\n",
    "print(left)\n",
    "res = pd.merge(left, right, left_index=True, right_index=True, how='outer')\n",
    "res"
   ]
  },
  {
   "cell_type": "code",
   "execution_count": 39,
   "metadata": {
    "collapsed": false
   },
   "outputs": [
    {
     "name": "stdout",
     "output_type": "stream",
     "text": [
      "   age   k\n",
      "0    1  k0\n",
      "1    2  k1\n",
      "2    3  k2\n",
      "   age   k\n",
      "0    4  k0\n",
      "1    5  k0\n",
      "2    6  k3\n"
     ]
    },
    {
     "data": {
      "text/html": [
       "<div>\n",
       "<table border=\"1\" class=\"dataframe\">\n",
       "  <thead>\n",
       "    <tr style=\"text-align: right;\">\n",
       "      <th></th>\n",
       "      <th>age_boys</th>\n",
       "      <th>k</th>\n",
       "      <th>age_girls</th>\n",
       "    </tr>\n",
       "  </thead>\n",
       "  <tbody>\n",
       "    <tr>\n",
       "      <th>0</th>\n",
       "      <td>1.0</td>\n",
       "      <td>k0</td>\n",
       "      <td>4.0</td>\n",
       "    </tr>\n",
       "    <tr>\n",
       "      <th>1</th>\n",
       "      <td>1.0</td>\n",
       "      <td>k0</td>\n",
       "      <td>5.0</td>\n",
       "    </tr>\n",
       "    <tr>\n",
       "      <th>2</th>\n",
       "      <td>2.0</td>\n",
       "      <td>k1</td>\n",
       "      <td>NaN</td>\n",
       "    </tr>\n",
       "    <tr>\n",
       "      <th>3</th>\n",
       "      <td>3.0</td>\n",
       "      <td>k2</td>\n",
       "      <td>NaN</td>\n",
       "    </tr>\n",
       "    <tr>\n",
       "      <th>4</th>\n",
       "      <td>NaN</td>\n",
       "      <td>k3</td>\n",
       "      <td>6.0</td>\n",
       "    </tr>\n",
       "  </tbody>\n",
       "</table>\n",
       "</div>"
      ],
      "text/plain": [
       "   age_boys   k  age_girls\n",
       "0       1.0  k0        4.0\n",
       "1       1.0  k0        5.0\n",
       "2       2.0  k1        NaN\n",
       "3       3.0  k2        NaN\n",
       "4       NaN  k3        6.0"
      ]
     },
     "execution_count": 39,
     "metadata": {},
     "output_type": "execute_result"
    }
   ],
   "source": [
    "# handle overlapping\n",
    "boys = pd.DataFrame({'k':['k0', 'k1', 'k2'], \n",
    "                    'age':[1, 2, 3]})\n",
    "girls = pd.DataFrame({'k':['k0', 'k0', 'k3'], \n",
    "                    'age':[4, 5, 6]})\n",
    "print(boys)\n",
    "print(girls)\n",
    "res = pd.merge(boys, girls, on='k', suffixes=['_boys', '_girls'], how='outer')\n",
    "res"
   ]
  },
  {
   "cell_type": "code",
   "execution_count": null,
   "metadata": {
    "collapsed": true
   },
   "outputs": [],
   "source": []
  }
 ],
 "metadata": {
  "kernelspec": {
   "display_name": "Python [conda root]",
   "language": "python",
   "name": "conda-root-py"
  },
  "language_info": {
   "codemirror_mode": {
    "name": "ipython",
    "version": 3
   },
   "file_extension": ".py",
   "mimetype": "text/x-python",
   "name": "python",
   "nbconvert_exporter": "python",
   "pygments_lexer": "ipython3",
   "version": "3.5.2"
  }
 },
 "nbformat": 4,
 "nbformat_minor": 1
}
